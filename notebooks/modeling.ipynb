{
 "cells": [
  {
   "cell_type": "markdown",
   "id": "abe9708e",
   "metadata": {},
   "source": [
    "This notebook contains the code for model building and evaluation\n",
    "1. Building and training models.\n",
    "2. Evaluating models’ performance.\n",
    "3. Tuning models’ hyperparameters."
   ]
  },
  {
   "cell_type": "markdown",
   "id": "8764d1d4",
   "metadata": {},
   "source": []
  }
 ],
 "metadata": {
  "language_info": {
   "name": "python"
  }
 },
 "nbformat": 4,
 "nbformat_minor": 5
}
