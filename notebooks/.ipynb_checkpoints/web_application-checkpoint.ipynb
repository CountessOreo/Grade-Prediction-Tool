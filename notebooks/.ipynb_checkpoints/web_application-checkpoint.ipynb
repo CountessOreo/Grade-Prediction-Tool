{
 "cells": [
  {
   "cell_type": "markdown",
   "id": "5284d655",
   "metadata": {},
   "source": [
    "This notebook contains the code for building the web application for the model deployment\n",
    "1. Building the web application interface.\n",
    "2. Integrating the model with the web application.\n",
    "3. Testing the web application."
   ]
  },
  {
   "cell_type": "markdown",
   "id": "21b0ed54",
   "metadata": {},
   "source": []
  }
 ],
 "metadata": {
  "language_info": {
   "name": "python"
  }
 },
 "nbformat": 4,
 "nbformat_minor": 5
}
